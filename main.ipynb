{
 "cells": [
  {
   "cell_type": "code",
   "execution_count": 1,
   "id": "244ab88c",
   "metadata": {},
   "outputs": [],
   "source": [
    "import os\n",
    "import numpy as np\n",
    "\n",
    "from lib.svm import SVM\n",
    "from lib.extract import extract_brand_samples_from_coco"
   ]
  },
  {
   "cell_type": "code",
   "execution_count": 2,
   "id": "545d8a4d",
   "metadata": {},
   "outputs": [],
   "source": [
    "train_dir = \"car_brand_detection/train\"\n",
    "train_ann = os.path.join(train_dir, \"_annotations.coco.json\")\n",
    "\n",
    "val_dir = \"car_brand_detection/valid\"\n",
    "val_ann = os.path.join(val_dir, \"_annotations.coco.json\")\n",
    "\n",
    "test_dir = \"car_brand_detection/test\"\n",
    "test_ann = os.path.join(test_dir, \"_annotations.coco.json\")"
   ]
  },
  {
   "cell_type": "code",
   "execution_count": 3,
   "id": "3d163703",
   "metadata": {},
   "outputs": [
    {
     "name": "stdout",
     "output_type": "stream",
     "text": [
      "Cargando datos de entrenamiento...\n",
      "Cargando datos de validación...\n",
      "Cargando datos de prueba...\n"
     ]
    }
   ],
   "source": [
    "print(\"Cargando datos de entrenamiento...\")\n",
    "X_train, y_train = extract_brand_samples_from_coco(train_dir, train_ann)\n",
    "\n",
    "print(\"Cargando datos de validación...\")\n",
    "X_val, y_val = extract_brand_samples_from_coco(val_dir, val_ann)\n",
    "\n",
    "print(\"Cargando datos de prueba...\")\n",
    "X_test, y_test = extract_brand_samples_from_coco(test_dir, test_ann)"
   ]
  },
  {
   "cell_type": "code",
   "execution_count": 4,
   "id": "8d99cbb5",
   "metadata": {},
   "outputs": [
    {
     "data": {
      "text/plain": [
       "'\\nprint(\"Entrenando modelo SVM...\")\\nsvm_model = SVM(learning_rate=0.001, lambda_param=0.01, n_iters=1000)\\nsvm_model.fit(X_train, y_train)\\n'"
      ]
     },
     "execution_count": 4,
     "metadata": {},
     "output_type": "execute_result"
    }
   ],
   "source": [
    "\"\"\"\n",
    "print(\"Entrenando modelo SVM...\")\n",
    "svm_model = SVM(learning_rate=0.001, lambda_param=0.01, n_iters=1000)\n",
    "svm_model.fit(X_train, y_train)\n",
    "\"\"\""
   ]
  },
  {
   "cell_type": "code",
   "execution_count": 5,
   "id": "af9d5f16",
   "metadata": {},
   "outputs": [
    {
     "data": {
      "text/plain": [
       "'\\nprint(\"Evaluando en validación...\")\\npreds = svm_model.predict(X_val)\\naccuracy = np.mean(preds == y_val)\\nprint(\"Precisión en validación:\", accuracy)\\n'"
      ]
     },
     "execution_count": 5,
     "metadata": {},
     "output_type": "execute_result"
    }
   ],
   "source": [
    "\"\"\"\n",
    "print(\"Evaluando en validación...\")\n",
    "preds = svm_model.predict(X_val)\n",
    "accuracy = np.mean(preds == y_val)\n",
    "print(\"Precisión en validación:\", accuracy)\n",
    "\"\"\""
   ]
  },
  {
   "cell_type": "code",
   "execution_count": 6,
   "id": "c1dfb013",
   "metadata": {},
   "outputs": [
    {
     "data": {
      "text/plain": [
       "'\\nprint(\"Evaluando en prueba...\")\\npreds_test = svm_model.predict(X_test)\\ntest_accuracy = np.mean(preds_test == y_test)\\nprint(\"Precisión en prueba:\", test_accuracy)\\n'"
      ]
     },
     "execution_count": 6,
     "metadata": {},
     "output_type": "execute_result"
    }
   ],
   "source": [
    "\"\"\"\n",
    "print(\"Evaluando en prueba...\")\n",
    "preds_test = svm_model.predict(X_test)\n",
    "test_accuracy = np.mean(preds_test == y_test)\n",
    "print(\"Precisión en prueba:\", test_accuracy)\n",
    "\"\"\"\n"
   ]
  },
  {
   "cell_type": "code",
   "execution_count": 7,
   "id": "8a2a8110",
   "metadata": {},
   "outputs": [
    {
     "name": "stdout",
     "output_type": "stream",
     "text": [
      "Accuracy: 0.3133493205435651\n"
     ]
    }
   ],
   "source": [
    "from sklearn.svm import SVC\n",
    "from sklearn.metrics import accuracy_score\n",
    "from sklearn.preprocessing import LabelEncoder\n",
    "\n",
    "# Codificar clases\n",
    "le = LabelEncoder()\n",
    "y_train_enc = le.fit_transform(y_train)\n",
    "y_val_enc = le.transform(y_val)\n",
    "\n",
    "# Entrenar SVM con OvR\n",
    "model = SVC(kernel='linear')  # o 'rbf'\n",
    "model.fit(X_train, y_train_enc)\n",
    "\n",
    "# Evaluar\n",
    "preds = model.predict(X_val)\n",
    "acc = accuracy_score(y_val_enc, preds)\n",
    "print(\"Accuracy:\", acc)"
   ]
  },
  {
   "cell_type": "code",
   "execution_count": 8,
   "id": "4e779f65",
   "metadata": {},
   "outputs": [
    {
     "name": "stdout",
     "output_type": "stream",
     "text": [
      "Accuracy RF validación: 0.31135091926458835\n"
     ]
    }
   ],
   "source": [
    "from sklearn.ensemble import RandomForestClassifier\n",
    "\n",
    "clf = RandomForestClassifier(n_estimators=100, random_state=42)\n",
    "clf.fit(X_train, y_train_enc)\n",
    "\n",
    "val_preds = clf.predict(X_val)\n",
    "print(\"Accuracy RF validación:\", accuracy_score(y_val_enc, val_preds))"
   ]
  },
  {
   "cell_type": "code",
   "execution_count": 9,
   "id": "ff989918",
   "metadata": {},
   "outputs": [
    {
     "name": "stdout",
     "output_type": "stream",
     "text": [
      "K = 1: 0.3517\n"
     ]
    }
   ],
   "source": [
    "from sklearn.neighbors import KNeighborsClassifier\n",
    "\n",
    "k = 1\n",
    "\n",
    "knn = KNeighborsClassifier(n_neighbors=k)\n",
    "knn.fit(X_train, y_train_enc)\n",
    "val_preds = knn.predict(X_val)\n",
    "acc = accuracy_score(y_val_enc, val_preds)\n",
    "print(f\"K = {k}: {acc:.4f}\")"
   ]
  }
 ],
 "metadata": {
  "kernelspec": {
   "display_name": "carbrand-recognition",
   "language": "python",
   "name": "python3"
  },
  "language_info": {
   "codemirror_mode": {
    "name": "ipython",
    "version": 3
   },
   "file_extension": ".py",
   "mimetype": "text/x-python",
   "name": "python",
   "nbconvert_exporter": "python",
   "pygments_lexer": "ipython3",
   "version": "3.12.9"
  }
 },
 "nbformat": 4,
 "nbformat_minor": 5
}
