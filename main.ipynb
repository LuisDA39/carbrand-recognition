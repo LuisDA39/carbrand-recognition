{
 "cells": [
  {
   "cell_type": "code",
   "execution_count": 1,
   "id": "244ab88c",
   "metadata": {},
   "outputs": [],
   "source": [
    "import os\n",
    "import numpy as np\n",
    "\n",
    "from lib.svm import SVM\n",
    "from lib.extract import extract_brand_samples_from_coco"
   ]
  },
  {
   "cell_type": "code",
   "execution_count": 6,
   "id": "545d8a4d",
   "metadata": {},
   "outputs": [],
   "source": [
    "train_dir = \"car_brand_detection/train\"\n",
    "train_ann = os.path.join(train_dir, \"_annotations.coco.json\")\n",
    "\n",
    "val_dir = \"car_brand_detection/valid\"\n",
    "val_ann = os.path.join(val_dir, \"_annotations.coco.json\")\n",
    "\n",
    "test_dir = \"car_brand_detection/test\"\n",
    "test_ann = os.path.join(test_dir, \"_annotations.coco.json\")"
   ]
  },
  {
   "cell_type": "code",
   "execution_count": 7,
   "id": "3d163703",
   "metadata": {},
   "outputs": [
    {
     "name": "stdout",
     "output_type": "stream",
     "text": [
      "Cargando datos de entrenamiento...\n",
      "loading annotations into memory...\n",
      "Done (t=0.07s)\n",
      "creating index...\n",
      "index created!\n",
      "Cargando datos de validación...\n",
      "loading annotations into memory...\n",
      "Done (t=0.01s)\n",
      "creating index...\n",
      "index created!\n",
      "Cargando datos de prueba...\n",
      "loading annotations into memory...\n",
      "Done (t=0.00s)\n",
      "creating index...\n",
      "index created!\n"
     ]
    }
   ],
   "source": [
    "print(\"Cargando datos de entrenamiento...\")\n",
    "X_train, y_train = extract_brand_samples_from_coco(train_dir, train_ann)\n",
    "\n",
    "print(\"Cargando datos de validación...\")\n",
    "X_val, y_val = extract_brand_samples_from_coco(val_dir, val_ann)\n",
    "\n",
    "print(\"Cargando datos de prueba...\")\n",
    "X_test, y_test = extract_brand_samples_from_coco(test_dir, test_ann)"
   ]
  },
  {
   "cell_type": "code",
   "execution_count": 4,
   "id": "8d99cbb5",
   "metadata": {},
   "outputs": [
    {
     "name": "stdout",
     "output_type": "stream",
     "text": [
      "Entrenando modelo SVM...\n"
     ]
    }
   ],
   "source": [
    "print(\"Entrenando modelo SVM...\")\n",
    "svm_model = SVM(learning_rate=0.001, lambda_param=0.01, n_iters=1000)\n",
    "svm_model.fit(X_train, y_train)"
   ]
  },
  {
   "cell_type": "code",
   "execution_count": 5,
   "id": "af9d5f16",
   "metadata": {},
   "outputs": [
    {
     "name": "stdout",
     "output_type": "stream",
     "text": [
      "Evaluando en validación...\n",
      "Precisión en validación: 0.03588087549336204\n"
     ]
    }
   ],
   "source": [
    "print(\"Evaluando en validación...\")\n",
    "preds = svm_model.predict(X_val)\n",
    "accuracy = np.mean(preds == y_val)\n",
    "print(\"Precisión en validación:\", accuracy)"
   ]
  },
  {
   "cell_type": "code",
   "execution_count": 8,
   "id": "c1dfb013",
   "metadata": {},
   "outputs": [
    {
     "name": "stdout",
     "output_type": "stream",
     "text": [
      "Evaluando en prueba...\n",
      "Precisión en prueba: 0.04668534080298786\n"
     ]
    }
   ],
   "source": [
    "print(\"Evaluando en prueba...\")\n",
    "preds_test = svm_model.predict(X_test)\n",
    "test_accuracy = np.mean(preds_test == y_test)\n",
    "print(\"Precisión en prueba:\", test_accuracy)"
   ]
  }
 ],
 "metadata": {
  "kernelspec": {
   "display_name": "carbrand-recognition",
   "language": "python",
   "name": "python3"
  },
  "language_info": {
   "codemirror_mode": {
    "name": "ipython",
    "version": 3
   },
   "file_extension": ".py",
   "mimetype": "text/x-python",
   "name": "python",
   "nbconvert_exporter": "python",
   "pygments_lexer": "ipython3",
   "version": "3.12.9"
  }
 },
 "nbformat": 4,
 "nbformat_minor": 5
}
